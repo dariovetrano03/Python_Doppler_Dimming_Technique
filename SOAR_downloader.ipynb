{
 "cells": [
  {
   "cell_type": "code",
   "execution_count": 6,
   "id": "f5d3876c-043d-4bb6-967f-e5a1076b8171",
   "metadata": {
    "editable": true,
    "slideshow": {
     "slide_type": ""
    },
    "tags": []
   },
   "outputs": [
    {
     "name": "stdout",
     "output_type": "stream",
     "text": [
      "I file verranno scaricati in: C:\\Users\\Lenovo1\\Desktop\\CORONA HYDRODYNAMIC STABILITY\\Doppler Dimming Technique\\codice\\VL_IMAGES\n",
      "\n",
      "Risultati della ricerca:\n",
      "Results from 1 Provider:\n",
      "\n",
      "10 Results from the SOARClient:\n",
      "\n",
      "Instrument Data product Level        Start time               End time        Filesize SOOP Name Detector Wavelength\n",
      "                                                                               Mbyte                                \n",
      "---------- ------------ ----- ----------------------- ----------------------- -------- --------- -------- ----------\n",
      "     METIS  metis-vl-pb    L2 2022-09-15 02:30:00.917 2022-09-15 02:58:45.081    12.64      none      VLD      610.0\n",
      "     METIS  metis-vl-pb    L2 2022-09-15 04:30:00.874 2022-09-15 04:58:45.036    12.64      none      VLD      610.0\n",
      "     METIS  metis-vl-pb    L2 2022-09-15 06:30:00.855 2022-09-15 06:58:45.017    12.64      none      VLD      610.0\n",
      "     METIS  metis-vl-pb    L2 2022-09-15 08:30:00.835 2022-09-15 08:58:44.995    12.64      none      VLD      610.0\n",
      "     METIS  metis-vl-pb    L2 2022-09-15 10:30:00.815 2022-09-15 10:58:44.973    12.64      none      VLD      610.0\n",
      "     METIS  metis-vl-pb    L2 2022-09-15 12:30:00.794 2022-09-15 12:58:44.950    12.64      none      VLD      610.0\n",
      "     METIS  metis-vl-pb    L2 2022-09-15 14:30:00.774 2022-09-15 14:58:44.930    12.64      none      VLD      610.0\n",
      "     METIS  metis-vl-pb    L2 2022-09-15 18:30:01.048 2022-09-15 18:58:45.206    12.64      none      VLD      610.0\n",
      "     METIS  metis-vl-pb    L2 2022-09-15 20:30:01.028 2022-09-15 20:58:45.182    12.64      none      VLD      610.0\n",
      "     METIS  metis-vl-pb    L2 2022-09-15 22:35:00.983 2022-09-15 22:55:32.373    3.205      none      VLD      610.0\n",
      "\n",
      "\n",
      "\n",
      "Download dei file in corso...\n"
     ]
    },
    {
     "data": {
      "application/vnd.jupyter.widget-view+json": {
       "model_id": "236fbd7a7ff44b82a5e537e5a2192748",
       "version_major": 2,
       "version_minor": 0
      },
      "text/plain": [
       "Files Downloaded:   0%|          | 0/10 [00:00<?, ?file/s]"
      ]
     },
     "metadata": {},
     "output_type": "display_data"
    },
    {
     "data": {
      "application/vnd.jupyter.widget-view+json": {
       "model_id": "",
       "version_major": 2,
       "version_minor": 0
      },
      "text/plain": [
       "solo_L2_metis-vl-pb_20220915T023000_V01.fits:   0%|          | 0.00/12.6M [00:00<?, ?B/s]"
      ]
     },
     "metadata": {},
     "output_type": "display_data"
    },
    {
     "data": {
      "application/vnd.jupyter.widget-view+json": {
       "model_id": "",
       "version_major": 2,
       "version_minor": 0
      },
      "text/plain": [
       "solo_L2_metis-vl-pb_20220915T103000_V01.fits:   0%|          | 0.00/12.6M [00:00<?, ?B/s]"
      ]
     },
     "metadata": {},
     "output_type": "display_data"
    },
    {
     "data": {
      "application/vnd.jupyter.widget-view+json": {
       "model_id": "",
       "version_major": 2,
       "version_minor": 0
      },
      "text/plain": [
       "solo_L2_metis-vl-pb_20220915T083000_V01.fits:   0%|          | 0.00/12.6M [00:00<?, ?B/s]"
      ]
     },
     "metadata": {},
     "output_type": "display_data"
    },
    {
     "data": {
      "application/vnd.jupyter.widget-view+json": {
       "model_id": "",
       "version_major": 2,
       "version_minor": 0
      },
      "text/plain": [
       "solo_L2_metis-vl-pb_20220915T063000_V01.fits:   0%|          | 0.00/12.6M [00:00<?, ?B/s]"
      ]
     },
     "metadata": {},
     "output_type": "display_data"
    },
    {
     "data": {
      "application/vnd.jupyter.widget-view+json": {
       "model_id": "",
       "version_major": 2,
       "version_minor": 0
      },
      "text/plain": [
       "solo_L2_metis-vl-pb_20220915T043000_V01.fits:   0%|          | 0.00/12.6M [00:00<?, ?B/s]"
      ]
     },
     "metadata": {},
     "output_type": "display_data"
    },
    {
     "data": {
      "application/vnd.jupyter.widget-view+json": {
       "model_id": "",
       "version_major": 2,
       "version_minor": 0
      },
      "text/plain": [
       "solo_L2_metis-vl-pb_20220915T123000_V01.fits:   0%|          | 0.00/12.6M [00:00<?, ?B/s]"
      ]
     },
     "metadata": {},
     "output_type": "display_data"
    },
    {
     "data": {
      "application/vnd.jupyter.widget-view+json": {
       "model_id": "",
       "version_major": 2,
       "version_minor": 0
      },
      "text/plain": [
       "solo_L2_metis-vl-pb_20220915T143000_V01.fits:   0%|          | 0.00/12.6M [00:00<?, ?B/s]"
      ]
     },
     "metadata": {},
     "output_type": "display_data"
    },
    {
     "data": {
      "application/vnd.jupyter.widget-view+json": {
       "model_id": "",
       "version_major": 2,
       "version_minor": 0
      },
      "text/plain": [
       "solo_L2_metis-vl-pb_20220915T183001_V01.fits:   0%|          | 0.00/12.6M [00:00<?, ?B/s]"
      ]
     },
     "metadata": {},
     "output_type": "display_data"
    },
    {
     "data": {
      "application/vnd.jupyter.widget-view+json": {
       "model_id": "",
       "version_major": 2,
       "version_minor": 0
      },
      "text/plain": [
       "solo_L2_metis-vl-pb_20220915T203001_V01.fits:   0%|          | 0.00/12.6M [00:00<?, ?B/s]"
      ]
     },
     "metadata": {},
     "output_type": "display_data"
    },
    {
     "data": {
      "application/vnd.jupyter.widget-view+json": {
       "model_id": "",
       "version_major": 2,
       "version_minor": 0
      },
      "text/plain": [
       "solo_L2_metis-vl-pb_20220915T223500_V01.fits:   0%|          | 0.00/3.21M [00:00<?, ?B/s]"
      ]
     },
     "metadata": {},
     "output_type": "display_data"
    },
    {
     "name": "stdout",
     "output_type": "stream",
     "text": [
      "\n",
      "File scaricati:\n",
      "['VL_IMAGES\\\\solo_L2_metis-vl-pb_20220915T023000_V01.fits', 'VL_IMAGES\\\\solo_L2_metis-vl-pb_20220915T043000_V01.fits', 'VL_IMAGES\\\\solo_L2_metis-vl-pb_20220915T063000_V01.fits', 'VL_IMAGES\\\\solo_L2_metis-vl-pb_20220915T083000_V01.fits', 'VL_IMAGES\\\\solo_L2_metis-vl-pb_20220915T103000_V01.fits', 'VL_IMAGES\\\\solo_L2_metis-vl-pb_20220915T123000_V01.fits', 'VL_IMAGES\\\\solo_L2_metis-vl-pb_20220915T143000_V01.fits', 'VL_IMAGES\\\\solo_L2_metis-vl-pb_20220915T183001_V01.fits', 'VL_IMAGES\\\\solo_L2_metis-vl-pb_20220915T203001_V01.fits', 'VL_IMAGES\\\\solo_L2_metis-vl-pb_20220915T223500_V01.fits']\n"
     ]
    }
   ],
   "source": [
    "import sunpy\n",
    "# Assicurati che sunpy_soar sia installato e importabile\n",
    "# pip install sunpy-soar\n",
    "import sunpy_soar\n",
    "from sunpy.net import Fido\n",
    "# Importa gli attributi di ricerca standard da sunpy\n",
    "from sunpy.net.attrs import Instrument, Level, Time\n",
    "# Importa l'attributo personalizzato 'Product' dal file attrs di sunpy_soar\n",
    "from sunpy_soar.attrs import Product\n",
    "import os\n",
    "\n",
    "# --- Imposta la directory di download ---\n",
    "# Modifica questa riga per specificare dove vuoi salvare i file.\n",
    "# Il '.' significa la cartella corrente.\n",
    "download_path = './VL_IMAGES/'\n",
    "# Crea la cartella se non esiste\n",
    "os.makedirs(download_path, exist_ok=True)\n",
    "print(f\"I file verranno scaricati in: {os.path.abspath(download_path)}\")\n",
    "\n",
    "\n",
    "# --- Crea gli attributi di ricerca ---\n",
    "\n",
    "instrument = Instrument('METIS')\n",
    "\n",
    "# Intervallo di tempo\n",
    "time = Time('2022-09-15 2:00:00', '2022-09-15 23:00:01')\n",
    "\n",
    "# Livello del dato (L2 in questo caso)\n",
    "level = Level(2)\n",
    "\n",
    "# Descrittore del prodotto dati per SWA/EAS (funzione di distribuzione 3D in PSD).\n",
    "# Questo è il nome corretto per i dati che stavi analizzando.\n",
    "\n",
    "product_descriptor = Product('metis-vl-pb')\n",
    "# product_descriptor = Product('metis-uv-image')\n",
    "\n",
    "# --- Esegui la ricerca ---\n",
    "# Passa tutti gli attributi a Fido.search\n",
    "result = Fido.search(instrument, time, level, product_descriptor)\n",
    "\n",
    "# Stampa i risultati della ricerca\n",
    "print(\"\\nRisultati della ricerca:\")\n",
    "print(result)\n",
    "\n",
    "# --- Scarica i file ---\n",
    "# Se la ricerca ha trovato dei risultati, scaricali nella directory specificata\n",
    "if result:\n",
    "    print(\"\\nDownload dei file in corso...\")\n",
    "    # Usa l'argomento 'path' per specificare la cartella di destinazione\n",
    "    files = Fido.fetch(result, path=download_path)\n",
    "    print(\"\\nFile scaricati:\")\n",
    "    print(files)\n",
    "else:\n",
    "    print(\"\\nNessun file trovato per i criteri di ricerca specificati.\")\n",
    "\n"
   ]
  }
 ],
 "metadata": {
  "kernelspec": {
   "display_name": "Python 3 (ipykernel)",
   "language": "python",
   "name": "python3"
  },
  "language_info": {
   "codemirror_mode": {
    "name": "ipython",
    "version": 3
   },
   "file_extension": ".py",
   "mimetype": "text/x-python",
   "name": "python",
   "nbconvert_exporter": "python",
   "pygments_lexer": "ipython3",
   "version": "3.11.7"
  }
 },
 "nbformat": 4,
 "nbformat_minor": 5
}
